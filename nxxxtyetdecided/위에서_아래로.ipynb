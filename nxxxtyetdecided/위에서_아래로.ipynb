{
 "cells": [
  {
   "cell_type": "markdown",
   "source": [
    "위에서 아래로"
   ],
   "metadata": {
    "collapsed": false
   }
  },
  {
   "cell_type": "code",
   "execution_count": 2,
   "outputs": [
    {
     "name": "stdout",
     "output_type": "stream",
     "text": [
      "15 4 3 "
     ]
    }
   ],
   "source": [
    "# 개수 n 입력\n",
    "n = int(input())\n",
    "\n",
    "# n개의 수 입력\n",
    "arr =[]\n",
    "for _ in range(n):\n",
    "    arr.append(int(input()))\n",
    "\n",
    "for a in sorted(arr, reverse=True):\n",
    "    print(a, end=\" \")"
   ],
   "metadata": {
    "collapsed": false,
    "pycharm": {
     "name": "#%%\n"
    }
   }
  },
  {
   "cell_type": "code",
   "execution_count": null,
   "outputs": [],
   "source": [],
   "metadata": {
    "collapsed": false,
    "pycharm": {
     "name": "#%%\n"
    }
   }
  }
 ],
 "metadata": {
  "kernelspec": {
   "display_name": "Python 3",
   "language": "python",
   "name": "python3"
  },
  "language_info": {
   "codemirror_mode": {
    "name": "ipython",
    "version": 2
   },
   "file_extension": ".py",
   "mimetype": "text/x-python",
   "name": "python",
   "nbconvert_exporter": "python",
   "pygments_lexer": "ipython2",
   "version": "2.7.6"
  }
 },
 "nbformat": 4,
 "nbformat_minor": 0
}