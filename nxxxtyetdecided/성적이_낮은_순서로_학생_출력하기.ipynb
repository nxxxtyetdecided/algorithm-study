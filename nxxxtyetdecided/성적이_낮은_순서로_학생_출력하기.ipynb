{
 "cells": [
  {
   "cell_type": "markdown",
   "source": [
    "성적이 낮은 순서로 학생 출력하기\n",
    "key = lambda를 잘 사용하면 되는 문제!"
   ],
   "metadata": {
    "collapsed": false
   }
  },
  {
   "cell_type": "code",
   "execution_count": 42,
   "outputs": [
    {
     "name": "stdout",
     "output_type": "stream",
     "text": [
      "l k "
     ]
    }
   ],
   "source": [
    "# 학생 수 입력 받기\n",
    "n = int(input())\n",
    "\n",
    "arr = []\n",
    "for _ in range(n):\n",
    "    arr.append(input().split()) # ()를 하나로 인식하여 삽입됨\n",
    "\n",
    "arr = sorted(arr, key=lambda x:x[1])\n",
    "\n",
    "for i in arr:\n",
    "    print(i[0], end=\" \")"
   ],
   "metadata": {
    "collapsed": false,
    "pycharm": {
     "name": "#%%\n"
    }
   }
  }
 ],
 "metadata": {
  "kernelspec": {
   "display_name": "Python 3",
   "language": "python",
   "name": "python3"
  },
  "language_info": {
   "codemirror_mode": {
    "name": "ipython",
    "version": 2
   },
   "file_extension": ".py",
   "mimetype": "text/x-python",
   "name": "python",
   "nbconvert_exporter": "python",
   "pygments_lexer": "ipython2",
   "version": "2.7.6"
  }
 },
 "nbformat": 4,
 "nbformat_minor": 0
}