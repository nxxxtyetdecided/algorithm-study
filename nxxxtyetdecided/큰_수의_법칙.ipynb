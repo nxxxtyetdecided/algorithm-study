{
 "cells": [
  {
   "cell_type": "markdown",
   "source": [
    "이코테 -> 큰 수의 법칙"
   ],
   "metadata": {
    "collapsed": false
   }
  },
  {
   "cell_type": "code",
   "execution_count": null,
   "outputs": [],
   "source": [
    "# 배열의 크기, 더해지는 수, 연속가능한 횟수\n",
    "n, m, k = map(int, input().split())\n",
    "\n",
    "# 배열 입력\n",
    "arr = list(map(int, input().split()))\n",
    "\n",
    "# 오름차순 정렬\n",
    "arr.sort()\n",
    "\n",
    "# 가장 큰 수 도출\n",
    "sum = 0\n",
    "\n",
    "# 배열의 개수 중 연속 가능 한 수는 가장 큰 수로\n",
    "# 연속 가능한 수 이외는 두번째로 큰 수로 채움\n",
    "# ex) 7개에서 3개 연속 가능하면\n",
    "# 7//3 == 2, (2*3)*가장 큰 수\n",
    "# 7 % 3 ==1, 1* 두번째로 큰 수\n",
    "sum += (m//k)*k*arr[-1] + (m%k)*arr[-2]\n",
    "print(sum)"
   ],
   "metadata": {
    "collapsed": false,
    "pycharm": {
     "name": "#%%\n"
    }
   }
  }
 ],
 "metadata": {
  "kernelspec": {
   "display_name": "Python 3",
   "language": "python",
   "name": "python3"
  },
  "language_info": {
   "codemirror_mode": {
    "name": "ipython",
    "version": 2
   },
   "file_extension": ".py",
   "mimetype": "text/x-python",
   "name": "python",
   "nbconvert_exporter": "python",
   "pygments_lexer": "ipython2",
   "version": "2.7.6"
  }
 },
 "nbformat": 4,
 "nbformat_minor": 0
}