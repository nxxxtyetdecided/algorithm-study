{
 "cells": [
  {
   "cell_type": "markdown",
   "source": [
    "1이 될 때까지"
   ],
   "metadata": {
    "collapsed": false
   }
  },
  {
   "cell_type": "code",
   "execution_count": null,
   "outputs": [],
   "source": [
    "# 어떤 수 n, 나눌 값 k\n",
    "n, k = map(int, input().split())\n",
    "result= 0\n",
    "\n",
    "while n>1:\n",
    "    if n % k == 0 :\n",
    "        n //= k\n",
    "        result +=1\n",
    "    else:\n",
    "        n -= 1\n",
    "        result += 1\n",
    "\n",
    "print(result)"
   ],
   "metadata": {
    "collapsed": false,
    "pycharm": {
     "name": "#%%\n",
     "is_executing": true
    }
   }
  }
 ],
 "metadata": {
  "kernelspec": {
   "display_name": "Python 3",
   "language": "python",
   "name": "python3"
  },
  "language_info": {
   "codemirror_mode": {
    "name": "ipython",
    "version": 2
   },
   "file_extension": ".py",
   "mimetype": "text/x-python",
   "name": "python",
   "nbconvert_exporter": "python",
   "pygments_lexer": "ipython2",
   "version": "2.7.6"
  }
 },
 "nbformat": 4,
 "nbformat_minor": 0
}