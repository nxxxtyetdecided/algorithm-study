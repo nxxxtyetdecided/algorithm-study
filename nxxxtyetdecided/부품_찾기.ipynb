{
 "cells": [
  {
   "cell_type": "markdown",
   "source": [
    "부품 찾기\n",
    "1. 매장에 있는 부품 개수 입력\n",
    "2. 매장 부품 정보 입력\n",
    "3. 손님이 찾는 부품 개수 입력\n",
    "4. 손님 부품 정보 입력\n",
    "5. 일치하는 게 있으면 yes, 없으면 no 반환"
   ],
   "metadata": {
    "collapsed": false
   }
  },
  {
   "cell_type": "code",
   "execution_count": 1,
   "outputs": [
    {
     "name": "stdout",
     "output_type": "stream",
     "text": [
      "no yes yes "
     ]
    }
   ],
   "source": [
    "# 내 풀이\n",
    "\n",
    "# 매장 부품 개수\n",
    "n = int(input())\n",
    "\n",
    "# 매장 부품 정보\n",
    "arr = list(map(int, input().split()))\n",
    "\n",
    "# 손님 부품 개수\n",
    "m = int(input())\n",
    "\n",
    "# 손님 부품 정보 입력\n",
    "m_arr = list(map(int, input().split()))\n",
    "\n",
    "for a in m_arr:\n",
    "    # 가게 물품에 손님 물품과 일치하는 게 존재하는지\n",
    "    if a in arr:\n",
    "        print(\"yes\", end=\" \")\n",
    "    else:\n",
    "        print(\"no\", end=\" \")"
   ],
   "metadata": {
    "collapsed": false,
    "pycharm": {
     "name": "#%%\n"
    }
   }
  },
  {
   "cell_type": "markdown",
   "source": [
    "값이 일치하는지를 확인하는 코드는\n",
    "\" == \" 도 좋지만 배열에서는 \"in\"을 사용해도 좋다."
   ],
   "metadata": {
    "collapsed": false,
    "pycharm": {
     "name": "#%% md\n"
    }
   }
  }
 ],
 "metadata": {
  "kernelspec": {
   "display_name": "Python 3",
   "language": "python",
   "name": "python3"
  },
  "language_info": {
   "codemirror_mode": {
    "name": "ipython",
    "version": 2
   },
   "file_extension": ".py",
   "mimetype": "text/x-python",
   "name": "python",
   "nbconvert_exporter": "python",
   "pygments_lexer": "ipython2",
   "version": "2.7.6"
  }
 },
 "nbformat": 4,
 "nbformat_minor": 0
}