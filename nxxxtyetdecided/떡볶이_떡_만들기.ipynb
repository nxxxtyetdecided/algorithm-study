{
 "cells": [
  {
   "cell_type": "markdown",
   "source": [
    "떡볶이 떡 만들기\n",
    "- 떡의 개수 n, 요청한 떡의 길이 m\n",
    "- 절단기의 길이 h\n",
    "- 떡의 길이가 h보다 길다면 자른 후 합친 길이가 적어도 m이상 이려면\n",
    "- h의 최대 길이는?\n",
    "\n",
    "n,m의 범위가 커서 이진탐색으로 접근하는 것이 효율적"
   ],
   "metadata": {
    "collapsed": false
   }
  },
  {
   "cell_type": "code",
   "execution_count": null,
   "outputs": [],
   "source": [
    "# 떡 개수, 요청할 떡 길이 입력\n",
    "n,m = map(int, input().split())\n",
    "\n",
    "# 떡 각각의 길이 입력\n",
    "arr = list(map(int, input().split()))\n",
    "\n",
    "# 시작점(0) ~ 가장 긴 떡 길이를 기준으로 중간점을 절단기의 길이로 설정\n",
    "start = 0\n",
    "end = max(arr)\n",
    "\n",
    "\n",
    "result = 0\n",
    "\n",
    "# start 값이 0과 같아질때까지\n",
    "while start <=end:\n",
    "    # 절단기의 길이, 나머지를 버리기 위해 //\n",
    "    h = (start+end)//2\n",
    "    print(f'start : {start}, end : {end}, h : {h}')\n",
    "\n",
    "    # 떡 길이 저장\n",
    "    sum = 0\n",
    "\n",
    "    # 떡 길이가 h 보다 길다면 차이만큼 저장\n",
    "    for a in arr:\n",
    "        if a > h:\n",
    "            sum += a-h\n",
    "\n",
    "    # 떡 길이 차이의 합이 m보다 작으면\n",
    "    if sum < m:\n",
    "        # 끝 값을 중간값 -1로 설정(이진 탐색)\n",
    "        end = h - 1\n",
    "\n",
    "    # 떡 길이 차이의 합이 m보다 크면\n",
    "    else:\n",
    "        result = h # 저장 안하면 다시 올라가서 계산\n",
    "        start = h+1\n",
    "\n",
    "print(result)"
   ],
   "metadata": {
    "collapsed": false,
    "pycharm": {
     "name": "#%%\n",
     "is_executing": true
    }
   }
  }
 ],
 "metadata": {
  "kernelspec": {
   "display_name": "Python 3",
   "language": "python",
   "name": "python3"
  },
  "language_info": {
   "codemirror_mode": {
    "name": "ipython",
    "version": 2
   },
   "file_extension": ".py",
   "mimetype": "text/x-python",
   "name": "python",
   "nbconvert_exporter": "python",
   "pygments_lexer": "ipython2",
   "version": "2.7.6"
  }
 },
 "nbformat": 4,
 "nbformat_minor": 0
}