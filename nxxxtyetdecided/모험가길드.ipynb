{
 "cells": [
  {
   "cell_type": "code",
   "execution_count": 12,
   "outputs": [
    {
     "name": "stdout",
     "output_type": "stream",
     "text": [
      "1\n",
      "1\n",
      "2\n",
      "1\n",
      "2\n",
      "g = 2\n"
     ]
    }
   ],
   "source": [
    "n = int(input())\n",
    "horror = list(map(int, input().split()))\n",
    "\n",
    "# 오름차순 정렬\n",
    "horror.sort()\n",
    "# 사람 수, 그룹 수\n",
    "p , g = 1, 0\n",
    "\n",
    "\n",
    "for i in horror:\n",
    "    # 사람 수가 공포감보다 크다면\n",
    "    if p >= i:\n",
    "        g += 1\n",
    "        p = 1\n",
    "    else:\n",
    "        p += 1\n",
    "\n",
    "print(g)\n"
   ],
   "metadata": {
    "collapsed": false,
    "pycharm": {
     "name": "#%%\n"
    }
   }
  },
  {
   "cell_type": "code",
   "execution_count": null,
   "outputs": [],
   "source": [],
   "metadata": {
    "collapsed": false,
    "pycharm": {
     "name": "#%%\n"
    }
   }
  }
 ],
 "metadata": {
  "kernelspec": {
   "display_name": "Python 3",
   "language": "python",
   "name": "python3"
  },
  "language_info": {
   "codemirror_mode": {
    "name": "ipython",
    "version": 2
   },
   "file_extension": ".py",
   "mimetype": "text/x-python",
   "name": "python",
   "nbconvert_exporter": "python",
   "pygments_lexer": "ipython2",
   "version": "2.7.6"
  }
 },
 "nbformat": 4,
 "nbformat_minor": 0
}