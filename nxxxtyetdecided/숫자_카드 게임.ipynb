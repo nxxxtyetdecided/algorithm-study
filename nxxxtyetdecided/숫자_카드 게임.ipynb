{
 "cells": [
  {
   "cell_type": "markdown",
   "source": [
    "이코테 숫자 카드 게임"
   ],
   "metadata": {
    "collapsed": false
   }
  },
  {
   "cell_type": "code",
   "execution_count": 11,
   "outputs": [
    {
     "name": "stdout",
     "output_type": "stream",
     "text": [
      "2\n"
     ]
    }
   ],
   "source": [
    "# 행, 열 입력\n",
    "n, m = map(int, input().split())\n",
    "\n",
    "# 배열 입력\n",
    "arr = []\n",
    "for _ in range(n):\n",
    "    arr.append(list(map(int, input().split())))\n",
    "\n",
    "arr_min = []\n",
    "for i in range(len(arr)):\n",
    "    arr_min.append(min(arr[i]))\n",
    "\n",
    "print(max(arr_min))"
   ],
   "metadata": {
    "collapsed": false,
    "pycharm": {
     "name": "#%%\n"
    }
   }
  },
  {
   "cell_type": "markdown",
   "source": [
    "시간 복잡도 O(N**2)"
   ],
   "metadata": {
    "collapsed": false
   }
  },
  {
   "cell_type": "markdown",
   "source": [
    "중복되는 코드 줄이기 -> 시간 복잡도 O(n)"
   ],
   "metadata": {
    "collapsed": false
   }
  },
  {
   "cell_type": "code",
   "execution_count": null,
   "outputs": [],
   "source": [
    "# 행, 열 입력\n",
    "n, m = map(int, input().split())\n",
    "\n",
    "# 배열 입력\n",
    "arr = []\n",
    "max_value = 0\n",
    "\n",
    "for i in range(n):\n",
    "    arr.append(list(map(int, input().split())))\n",
    "    result = min(arr[i])\n",
    "    max_value = max(result, max_value) # 이부분 자주 나오는 듯"
   ],
   "metadata": {
    "collapsed": false,
    "pycharm": {
     "name": "#%%\n"
    }
   }
  },
  {
   "cell_type": "markdown",
   "source": [
    "비교할 때\n",
    "max_Value = max(result, max_Value) 많이 쓰는 것 같다."
   ],
   "metadata": {
    "collapsed": false
   }
  }
 ],
 "metadata": {
  "kernelspec": {
   "display_name": "Python 3",
   "language": "python",
   "name": "python3"
  },
  "language_info": {
   "codemirror_mode": {
    "name": "ipython",
    "version": 2
   },
   "file_extension": ".py",
   "mimetype": "text/x-python",
   "name": "python",
   "nbconvert_exporter": "python",
   "pygments_lexer": "ipython2",
   "version": "2.7.6"
  }
 },
 "nbformat": 4,
 "nbformat_minor": 0
}