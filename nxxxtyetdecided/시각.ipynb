{
 "cells": [
  {
   "cell_type": "markdown",
   "source": [
    "시각"
   ],
   "metadata": {
    "collapsed": false
   }
  },
  {
   "cell_type": "code",
   "execution_count": null,
   "outputs": [],
   "source": [
    "N = int(input())\n",
    "cnt = 0\n",
    "\n",
    "for n in range(N+1):\n",
    "    for m in range(60):\n",
    "        for s in range(60):\n",
    "            if '3' in (str(n)+str(m)+str(s)): #in은 문자열에서만\n",
    "                cnt += 1\n",
    "              # if '3' in (str(n) or str(m) or str(s)): n이 3인 경우만 count\n",
    "\n",
    "print(cnt)"
   ],
   "metadata": {
    "collapsed": false,
    "pycharm": {
     "name": "#%%\n"
    }
   }
  },
  {
   "cell_type": "markdown",
   "source": [
    "in은 문자열에서만\n",
    "or을 쓰면 앞에 것만 확인하는 이유는...."
   ],
   "metadata": {
    "collapsed": false
   }
  }
 ],
 "metadata": {
  "kernelspec": {
   "display_name": "Python 3",
   "language": "python",
   "name": "python3"
  },
  "language_info": {
   "codemirror_mode": {
    "name": "ipython",
    "version": 2
   },
   "file_extension": ".py",
   "mimetype": "text/x-python",
   "name": "python",
   "nbconvert_exporter": "python",
   "pygments_lexer": "ipython2",
   "version": "2.7.6"
  }
 },
 "nbformat": 4,
 "nbformat_minor": 0
}