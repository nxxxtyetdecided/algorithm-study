{
 "cells": [
  {
   "cell_type": "markdown",
   "source": [
    "두 배열 원소 교체\n",
    "\n",
    "1. 원소의 개수와 바꿔치기 가능한 개수를 입력 받는다.\n",
    "2. 바꿔치기를 하고 난 이후 a 배열의 원소의 가장 큰 경우를 구하는 문제"
   ],
   "metadata": {
    "collapsed": false,
    "pycharm": {
     "name": "#%% md\n"
    }
   }
  },
  {
   "cell_type": "code",
   "execution_count": 3,
   "outputs": [
    {
     "name": "stdout",
     "output_type": "stream",
     "text": [
      "26\n"
     ]
    }
   ],
   "source": [
    "# 원소의 개수 n, 바꿔치기 가능한 연산 수 k\n",
    "n, k = map(int, input().split())\n",
    "\n",
    "# a,b 각각의 배열 원소들 입력\n",
    "arr = []\n",
    "for _ in range(2):\n",
    "    # 2차원 배열 안에 넣어줌\n",
    "    arr.append(list(map(int, input().split())))\n",
    "\n",
    "# a 배열 오름차순 정렬\n",
    "arr[0].sort()\n",
    "\n",
    "# b 배열 내림차순 정렬\n",
    "arr[1].sort(reverse=True)\n",
    "\n",
    "# a와 b의 배열값 비교 -> 더 큰 수를 a 배열로\n",
    "for i in range(k):\n",
    "    if arr[0][i] < arr[1][i]:\n",
    "        arr[0][i], arr[1][i] = arr[1][i], arr[0][i]\n",
    "\n",
    "    # k 가 남아도 a 배열이 같거나 크면 더 비교할 이유 x\n",
    "    elif arr[0][i] >= arr[1][i]:\n",
    "        break\n",
    "\n",
    "print(sum(arr[0]))"
   ],
   "metadata": {
    "collapsed": false,
    "pycharm": {
     "name": "#%%\n"
    }
   }
  },
  {
   "cell_type": "markdown",
   "source": [
    "elif 문을 써준다면 불필요한 연산을 막을 수 있어 사용해야한다.\n",
    "elif 문까지는 생각하지 못했는데\n",
    "이런 식으로 문제를 더 빠르게 연산할 수 있는 방법을 천천히 생각해봐야겠다."
   ],
   "metadata": {
    "collapsed": false,
    "pycharm": {
     "name": "#%% md\n"
    }
   }
  }
 ],
 "metadata": {
  "kernelspec": {
   "display_name": "Python 3",
   "language": "python",
   "name": "python3"
  },
  "language_info": {
   "codemirror_mode": {
    "name": "ipython",
    "version": 2
   },
   "file_extension": ".py",
   "mimetype": "text/x-python",
   "name": "python",
   "nbconvert_exporter": "python",
   "pygments_lexer": "ipython2",
   "version": "2.7.6"
  }
 },
 "nbformat": 4,
 "nbformat_minor": 0
}