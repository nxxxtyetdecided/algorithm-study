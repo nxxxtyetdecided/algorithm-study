{
 "cells": [
  {
   "cell_type": "markdown",
   "source": [
    "상하좌우"
   ],
   "metadata": {
    "collapsed": false
   }
  },
  {
   "cell_type": "code",
   "execution_count": null,
   "outputs": [],
   "source": [
    "# 공간의 크기 입력 n*n\n",
    "n = int(input())\n",
    "\n",
    "# 내 위치\n",
    "x,y = 1,1\n",
    "\n",
    "# 움직일 방향 입력\n",
    "move = input().split() # type은 list\n",
    "\n",
    "# L, R, U , D 순서\n",
    "dir = ['L', 'R', 'U', 'D']\n",
    "dir_num = [[0, -1], [0,1], [-1,0], [1,0]]\n",
    "\n",
    "for m in move:\n",
    "    for i in range(len(dir)):\n",
    "        if m == dir[i]:\n",
    "            nx = x + dir_num[i][0]\n",
    "            ny = y + dir_num[i][1]\n",
    "    if nx < 1 or nx > n or ny < 1 or ny > n:\n",
    "        continue\n",
    "    x, y = nx, ny\n",
    "\n",
    "print(x, y)"
   ],
   "metadata": {
    "collapsed": false,
    "pycharm": {
     "name": "#%%\n"
    }
   }
  },
  {
   "cell_type": "markdown",
   "source": [
    "move = input().split() 해도\n",
    "알아서 리스트로 입력됨"
   ],
   "metadata": {
    "collapsed": false
   }
  }
 ],
 "metadata": {
  "kernelspec": {
   "display_name": "Python 3",
   "language": "python",
   "name": "python3"
  },
  "language_info": {
   "codemirror_mode": {
    "name": "ipython",
    "version": 2
   },
   "file_extension": ".py",
   "mimetype": "text/x-python",
   "name": "python",
   "nbconvert_exporter": "python",
   "pygments_lexer": "ipython2",
   "version": "2.7.6"
  }
 },
 "nbformat": 4,
 "nbformat_minor": 0
}